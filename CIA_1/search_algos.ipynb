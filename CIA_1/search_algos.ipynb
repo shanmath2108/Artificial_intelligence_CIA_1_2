{
 "cells": [
  {
   "cell_type": "markdown",
   "metadata": {},
   "source": [
    "### Importing necessary libraries"
   ]
  },
  {
   "cell_type": "code",
   "execution_count": 1,
   "metadata": {},
   "outputs": [],
   "source": [
    "from collections import deque, defaultdict\n",
    "import heapq"
   ]
  },
  {
   "cell_type": "markdown",
   "metadata": {},
   "source": [
    "### Sample graph"
   ]
  },
  {
   "cell_type": "code",
   "execution_count": 2,
   "metadata": {},
   "outputs": [],
   "source": [
    "# Graph Representation (Sample Graph)\n",
    "graph = {\n",
    "    'A': ['B', 'C'],\n",
    "    'B': ['D', 'E'],\n",
    "    'C': ['F'],\n",
    "    'D': [],\n",
    "    'E': ['F'],\n",
    "    'F': []\n",
    "}"
   ]
  },
  {
   "cell_type": "markdown",
   "metadata": {},
   "source": [
    "### BMS (British Museum Search)"
   ]
  },
  {
   "cell_type": "code",
   "execution_count": 3,
   "metadata": {},
   "outputs": [],
   "source": [
    "# BMS (British Museum Search)\n",
    "def bms(graph, start, goal, path=None, visited=None, all_paths=None):\n",
    "    if path is None:\n",
    "        path = [start]\n",
    "    if visited is None:\n",
    "        visited = set()\n",
    "    if all_paths is None:\n",
    "        all_paths = []\n",
    "\n",
    "    # If we reached the goal, add the path to the list of all paths\n",
    "    if start == goal:\n",
    "        all_paths.append(path)\n",
    "        return\n",
    "\n",
    "    visited.add(start)\n",
    "\n",
    "    # Explore all neighbors\n",
    "    for neighbor in graph[start]:\n",
    "        if neighbor not in visited:\n",
    "            bms(graph, neighbor, goal, path + [neighbor], visited.copy(), all_paths)\n",
    "\n",
    "    return all_paths"
   ]
  },
  {
   "cell_type": "markdown",
   "metadata": {},
   "source": [
    "### BFS (Breadth-First Search)"
   ]
  },
  {
   "cell_type": "code",
   "execution_count": 4,
   "metadata": {},
   "outputs": [],
   "source": [
    "# BFS (Breadth-First Search)\n",
    "def bfs(graph, start, goal):\n",
    "    visited = set()\n",
    "    queue = deque([[start]])\n",
    "    \n",
    "    while queue:\n",
    "        path = queue.popleft()\n",
    "        node = path[-1]\n",
    "\n",
    "        if node == goal:\n",
    "            return path\n",
    "        \n",
    "        if node not in visited:\n",
    "            visited.add(node)\n",
    "            for neighbor in graph[node]:\n",
    "                new_path = path + [neighbor]\n",
    "                queue.append(new_path)\n",
    "    \n",
    "    return None"
   ]
  },
  {
   "cell_type": "markdown",
   "metadata": {},
   "source": [
    "### DFS (Depth-First Search)"
   ]
  },
  {
   "cell_type": "code",
   "execution_count": 5,
   "metadata": {},
   "outputs": [],
   "source": [
    "# DFS (Depth-First Search)\n",
    "def dfs(graph, start, goal, path=None, visited=None):\n",
    "    if path is None:\n",
    "        path = [start]\n",
    "    if visited is None:\n",
    "        visited = set()\n",
    "    \n",
    "    if start == goal:\n",
    "        return path\n",
    "    \n",
    "    visited.add(start)\n",
    "    \n",
    "    for neighbor in graph[start]:\n",
    "        if neighbor not in visited:\n",
    "            new_path = dfs(graph, neighbor, goal, path + [neighbor], visited)\n",
    "            if new_path:\n",
    "                return new_path\n",
    "    \n",
    "    return None"
   ]
  },
  {
   "cell_type": "markdown",
   "metadata": {},
   "source": [
    "### Hill Climbing (Greedy Local Search)"
   ]
  },
  {
   "cell_type": "code",
   "execution_count": 6,
   "metadata": {},
   "outputs": [],
   "source": [
    "# Hill Climbing (Greedy Local Search)\n",
    "def hill_climbing(graph, start, goal, heuristic):\n",
    "    current_node = start\n",
    "    path = [start]\n",
    "    \n",
    "    while current_node != goal:\n",
    "        neighbors = graph[current_node]\n",
    "        if not neighbors:\n",
    "            return None  # Dead end\n",
    "        \n",
    "        # Choose neighbor with best heuristic\n",
    "        current_node = min(neighbors, key=heuristic)\n",
    "        path.append(current_node)\n",
    "    \n",
    "    return path"
   ]
  },
  {
   "cell_type": "markdown",
   "metadata": {},
   "source": [
    "### Beam Search (Heuristic-based, keeping top K states)"
   ]
  },
  {
   "cell_type": "code",
   "execution_count": 7,
   "metadata": {},
   "outputs": [],
   "source": [
    "# Beam Search (Heuristic-based, keeping top K states)\n",
    "def beam_search(graph, start, goal, heuristic, k=2):\n",
    "    queue = [[start]]\n",
    "    \n",
    "    while queue:\n",
    "        # Sort paths by their heuristic score (choose top-k)\n",
    "        queue.sort(key=lambda path: heuristic(path[-1]))\n",
    "        queue = queue[:k]\n",
    "        \n",
    "        new_queue = []\n",
    "        for path in queue:\n",
    "            node = path[-1]\n",
    "            if node == goal:\n",
    "                return path\n",
    "            for neighbor in graph[node]:\n",
    "                new_path = path + [neighbor]\n",
    "                new_queue.append(new_path)\n",
    "        queue = new_queue\n",
    "\n",
    "    return None"
   ]
  },
  {
   "cell_type": "markdown",
   "metadata": {},
   "source": [
    "### Oracle Search"
   ]
  },
  {
   "cell_type": "code",
   "execution_count": 8,
   "metadata": {},
   "outputs": [],
   "source": [
    "# Oracle Search\n",
    "def oracle_search(predefined_path):\n",
    "    return predefined_path"
   ]
  },
  {
   "cell_type": "markdown",
   "metadata": {},
   "source": [
    "### Branch and Bound Search"
   ]
  },
  {
   "cell_type": "code",
   "execution_count": 9,
   "metadata": {},
   "outputs": [],
   "source": [
    "# Branch and Bound Search\n",
    "def branch_and_bound(graph, start, goal):\n",
    "    queue = [[(0, start)]]\n",
    "    \n",
    "    while queue:\n",
    "        path = queue.pop(0)\n",
    "        cost, node = path[-1]\n",
    "        \n",
    "        if node == goal:\n",
    "            return [step[1] for step in path]\n",
    "        \n",
    "        for neighbor in graph[node]:\n",
    "            queue.append(path + [(cost + 1, neighbor)])\n",
    "    \n",
    "    return None"
   ]
  },
  {
   "cell_type": "markdown",
   "metadata": {},
   "source": [
    "### Branch and Bound + Extended List"
   ]
  },
  {
   "cell_type": "code",
   "execution_count": 10,
   "metadata": {},
   "outputs": [],
   "source": [
    "# Branch and Bound + Extended List\n",
    "def branch_and_bound_extended(graph, start, goal):\n",
    "    visited = set()\n",
    "    queue = [[(0, start)]]\n",
    "    \n",
    "    while queue:\n",
    "        path = queue.pop(0)\n",
    "        cost, node = path[-1]\n",
    "        \n",
    "        if node == goal:\n",
    "            return [step[1] for step in path]\n",
    "        \n",
    "        if node not in visited:\n",
    "            visited.add(node)\n",
    "            for neighbor in graph[node]:\n",
    "                queue.append(path + [(cost + 1, neighbor)])\n",
    "    \n",
    "    return None"
   ]
  },
  {
   "cell_type": "markdown",
   "metadata": {},
   "source": [
    "### Branch and Bound + Heuristics"
   ]
  },
  {
   "cell_type": "code",
   "execution_count": 11,
   "metadata": {},
   "outputs": [],
   "source": [
    "# Branch and Bound + Heuristics\n",
    "def branch_and_bound_heuristic(graph, start, goal, heuristic):\n",
    "    queue = [(0 + heuristic(start), [(0, start)])]\n",
    "    \n",
    "    while queue:\n",
    "        _, path = heapq.heappop(queue)\n",
    "        cost, node = path[-1]\n",
    "        \n",
    "        if node == goal:\n",
    "            return [step[1] for step in path]\n",
    "        \n",
    "        for neighbor in graph[node]:\n",
    "            new_cost = cost + 1 + heuristic(neighbor)\n",
    "            heapq.heappush(queue, (new_cost, path + [(cost + 1, neighbor)]))\n",
    "    \n",
    "    return None"
   ]
  },
  {
   "cell_type": "markdown",
   "metadata": {},
   "source": [
    "### A* Search (Combines cost + heuristic)"
   ]
  },
  {
   "cell_type": "code",
   "execution_count": 12,
   "metadata": {},
   "outputs": [],
   "source": [
    "# A* Search (Combines cost + heuristic)\n",
    "def a_star(graph, start, goal, heuristic):\n",
    "    queue = [(0 + heuristic(start), [(0, start)])]\n",
    "    visited = set()\n",
    "    \n",
    "    while queue:\n",
    "        _, path = heapq.heappop(queue)\n",
    "        cost, node = path[-1]\n",
    "        \n",
    "        if node == goal:\n",
    "            return [step[1] for step in path]\n",
    "        \n",
    "        if node not in visited:\n",
    "            visited.add(node)\n",
    "            for neighbor in graph[node]:\n",
    "                new_cost = cost + 1 + heuristic(neighbor)\n",
    "                heapq.heappush(queue, (new_cost, path + [(cost + 1, neighbor)]))\n",
    "    \n",
    "    return None"
   ]
  },
  {
   "cell_type": "markdown",
   "metadata": {},
   "source": [
    "### Heuristic Function"
   ]
  },
  {
   "cell_type": "code",
   "execution_count": 13,
   "metadata": {},
   "outputs": [],
   "source": [
    "# Sample Heuristic Function\n",
    "def heuristic(node):\n",
    "    return {\n",
    "        'A': 3, 'B': 2, 'C': 1, 'D': 4, 'E': 1, 'F': 0\n",
    "    }.get(node, float('inf'))"
   ]
  },
  {
   "cell_type": "markdown",
   "metadata": {},
   "source": [
    "### Test Case Execution"
   ]
  },
  {
   "cell_type": "code",
   "execution_count": 14,
   "metadata": {},
   "outputs": [],
   "source": [
    "# Test Case Execution\n",
    "start_node = 'A'\n",
    "goal_node = 'F'"
   ]
  },
  {
   "cell_type": "markdown",
   "metadata": {},
   "source": [
    "### Output"
   ]
  },
  {
   "cell_type": "code",
   "execution_count": 15,
   "metadata": {},
   "outputs": [
    {
     "name": "stdout",
     "output_type": "stream",
     "text": [
      "BMS Paths:\n",
      " [['A', 'B', 'E', 'F'], ['A', 'C', 'F']] \n",
      "\n"
     ]
    }
   ],
   "source": [
    "print(\"BMS Paths:\\n\", bms(graph, start_node, goal_node), \"\\n\")"
   ]
  },
  {
   "cell_type": "code",
   "execution_count": 16,
   "metadata": {},
   "outputs": [
    {
     "name": "stdout",
     "output_type": "stream",
     "text": [
      "BFS Path:\n",
      " ['A', 'C', 'F'] \n",
      "\n"
     ]
    }
   ],
   "source": [
    "print(\"BFS Path:\\n\", bfs(graph, start_node, goal_node), \"\\n\")"
   ]
  },
  {
   "cell_type": "code",
   "execution_count": 17,
   "metadata": {},
   "outputs": [
    {
     "name": "stdout",
     "output_type": "stream",
     "text": [
      "DFS Path:\n",
      " ['A', 'B', 'E', 'F'] \n",
      "\n"
     ]
    }
   ],
   "source": [
    "print(\"DFS Path:\\n\", dfs(graph, start_node, goal_node), \"\\n\")"
   ]
  },
  {
   "cell_type": "code",
   "execution_count": 18,
   "metadata": {},
   "outputs": [
    {
     "name": "stdout",
     "output_type": "stream",
     "text": [
      "Hill Climbing Path:\n",
      " ['A', 'C', 'F'] \n",
      "\n"
     ]
    }
   ],
   "source": [
    "print(\"Hill Climbing Path:\\n\", hill_climbing(graph, start_node, goal_node, heuristic), \"\\n\")"
   ]
  },
  {
   "cell_type": "code",
   "execution_count": 19,
   "metadata": {},
   "outputs": [
    {
     "name": "stdout",
     "output_type": "stream",
     "text": [
      "Beam Search Path:\n",
      " ['A', 'C', 'F'] \n",
      "\n"
     ]
    }
   ],
   "source": [
    "print(\"Beam Search Path:\\n\", beam_search(graph, start_node, goal_node, heuristic, k=2), \"\\n\")"
   ]
  },
  {
   "cell_type": "code",
   "execution_count": 20,
   "metadata": {},
   "outputs": [
    {
     "name": "stdout",
     "output_type": "stream",
     "text": [
      "Oracle Path:\n",
      " ['A', 'C', 'F'] \n",
      "\n"
     ]
    }
   ],
   "source": [
    "print(\"Oracle Path:\\n\", oracle_search(['A', 'C', 'F']), \"\\n\")"
   ]
  },
  {
   "cell_type": "code",
   "execution_count": 21,
   "metadata": {},
   "outputs": [
    {
     "name": "stdout",
     "output_type": "stream",
     "text": [
      "Branch and Bound Path:\n",
      " ['A', 'C', 'F'] \n",
      "\n"
     ]
    }
   ],
   "source": [
    "print(\"Branch and Bound Path:\\n\", branch_and_bound(graph, start_node, goal_node), \"\\n\")"
   ]
  },
  {
   "cell_type": "code",
   "execution_count": 22,
   "metadata": {},
   "outputs": [
    {
     "name": "stdout",
     "output_type": "stream",
     "text": [
      "Branch and Bound + Extended Path:\n",
      " ['A', 'C', 'F'] \n",
      "\n"
     ]
    }
   ],
   "source": [
    "print(\"Branch and Bound + Extended Path:\\n\", branch_and_bound_extended(graph, start_node, goal_node), \"\\n\")"
   ]
  },
  {
   "cell_type": "code",
   "execution_count": 23,
   "metadata": {},
   "outputs": [
    {
     "name": "stdout",
     "output_type": "stream",
     "text": [
      "Branch and Bound + Heuristic Path:\n",
      " ['A', 'C', 'F'] \n",
      "\n"
     ]
    }
   ],
   "source": [
    "print(\"Branch and Bound + Heuristic Path:\\n\", branch_and_bound_heuristic(graph, start_node, goal_node, heuristic), \"\\n\")"
   ]
  },
  {
   "cell_type": "code",
   "execution_count": 24,
   "metadata": {},
   "outputs": [
    {
     "name": "stdout",
     "output_type": "stream",
     "text": [
      "A* Path:\n",
      " ['A', 'C', 'F'] \n",
      "\n"
     ]
    }
   ],
   "source": [
    "print(\"A* Path:\\n\", a_star(graph, start_node, goal_node, heuristic), \"\\n\")"
   ]
  }
 ],
 "metadata": {
  "kernelspec": {
   "display_name": "Python 3",
   "language": "python",
   "name": "python3"
  },
  "language_info": {
   "codemirror_mode": {
    "name": "ipython",
    "version": 3
   },
   "file_extension": ".py",
   "mimetype": "text/x-python",
   "name": "python",
   "nbconvert_exporter": "python",
   "pygments_lexer": "ipython3",
   "version": "3.12.1"
  }
 },
 "nbformat": 4,
 "nbformat_minor": 2
}
